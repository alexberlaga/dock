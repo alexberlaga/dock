{
 "cells": [
  {
   "cell_type": "code",
   "execution_count": null,
   "id": "081a2ed6",
   "metadata": {},
   "outputs": [],
   "source": [
    "import numpy as np\n",
    "import pandas as pd\n",
    "import matplotlib.pyplot as plt\n",
    "import mdtraj as md\n",
    "import matplotlib\n",
    "import os\n",
    "matplotlib.rc('xtick', labelsize=25) \n",
    "matplotlib.rc('ytick', labelsize=25) \n",
    "matplotlib.rcParams['font.size'] = 25\n",
    "matplotlib.rcParams['figure.figsize'] = (15, 12)\n",
    "def slice(traj, selection):\n",
    "    return traj.atom_slice(traj.top.select(selection))"
   ]
  },
  {
   "cell_type": "code",
   "execution_count": null,
   "id": "db3491a6",
   "metadata": {},
   "outputs": [],
   "source": [
    "times = []\n",
    "wanted_values = []\n",
    "names = []\n",
    "latex = []\n",
    "heights = []\n",
    "wholes = []\n",
    "cvs = []\n",
    "ref_lig = md.load('../a_insert/lig.pdb')\n",
    "\n",
    "        \n",
    "dih_names = ['phi', 'psi', 'omega']\n",
    "dihedrals = {'phi': [], 'psi': []}\n",
    "\n",
    "if os.path.isfile('HILLS.omega1'):\n",
    "    dihedrals['omega'] = []\n",
    "    n_dih = 3\n",
    "else:\n",
    "    n_dih = 2\n",
    "for i in range(n_dih):\n",
    "    for j in range(1, ref_lig.top.n_residues - 1):\n",
    "        latex.append(\"$\\\\\" + f\"{dih_names[i]}_{j}$\")\n",
    "        cvs.append(f\"{dih_names[i]}{j}\")\n",
    "cvs.append('fps.lp')\n",
    "cvs.append('fps.ld')\n",
    "latex.append(\"Axis projection\")\n",
    "latex.append(\"Axis distance\")\n",
    "        \n",
    "for cv in cvs:\n",
    "    whole_cv = pd.read_csv(f'HILLS.{cv}', names=[\"time\", cv, f\"sigma_{cv}\", \"height\", \"biasf\"], comment=\"#\", delim_whitespace=True)\n",
    "    wholes.append(whole_cv)\n",
    "    times.append(whole_cv['time']/1000)\n",
    "    names.append(cv)\n",
    "    heights.append(whole_cv['height'])\n",
    "    wanted_values.append(whole_cv[cv])\n",
    "\n",
    "# hills2 = pd.read_csv('HILLS.omega2', names=[\"time\", \"omega2\", \"sigma_omega2\", \"height\", \"biasf\"], comment=\"#\", delim_whitespace=True)\n",
    "# hills3 = pd.read_csv('HILLS.omega3', names=[\"time\", \"omega3\", \"sigma_omega3\", \"height\", \"biasf\"], comment=\"#\", delim_whitespace=True)\n",
    "biasfactor = 20/19"
   ]
  },
  {
   "cell_type": "code",
   "execution_count": null,
   "id": "7bd82fc6",
   "metadata": {},
   "outputs": [],
   "source": [
    "fig, ax = plt.subplots(n_dih + 1, ref_lig.top.n_residues - 2)\n",
    "for i in range(len(times)):\n",
    "    ax_ = ax[i // (ref_lig.top.n_residues - 2), i % (ref_lig.top.n_residues - 2)]\n",
    "    ax_.plot(times[i], heights[i])\n",
    "    ax_.axhline(y=(wholes[i][round(len(wholes[i])*-0.1):].height).mean(), color='green', linestyle='-')\n",
    "    ax_.axhline(y=(biasfactor)*1.2*0.1, color='black', linestyle='-')\n",
    "    ax_.axhline(y=(biasfactor)*1.2*0.05, color='red', linestyle='-')\n",
    "\n",
    "    ax_.set_title(latex[i], y=1.05)\n",
    "    # print(\"average over terminal 10 percent of simulation: %f\" %(wholes[i][round(len(wholes[i])*-0.1):].height).mean())\n",
    "    # print(\"10 percent initial height: %f\" %((biasfactor)*1.2*0.1))\n",
    "    # print(\"5 percent initial height: %f\" %((biasfactor)*1.2*0.05))\n",
    "    # plt.show()\n",
    "    #plt.plot(r1_pc2.time/1000, r1_pc2.pc1)\n",
    "    #plt.axhline(y=1.2*0.05, color='black', linestyle='-')\n",
    "    #plt.xlabel(\"Simulation Time (ns)\")\n",
    "    #plt.ylabel(\"PC1\")\n",
    "    #plt.title(\"PC1 over time\")\n",
    "    #plt.hist(r1_pc1.pc1, bins=100)\n",
    "fig.supxlabel(\"Simulation Time (ns)\", y=0, fontsize=35)\n",
    "fig.supylabel(\"Deposited Gaussian Heights (kJ/mol)\", x=0, fontsize=35)\n",
    "plt.tight_layout()\n",
    "plt.suptitle(\"Gaussians deposited over time\", y=1.01, fontsize=35)\n",
    "plt.show()"
   ]
  },
  {
   "cell_type": "code",
   "execution_count": null,
   "id": "ddfb5ea1",
   "metadata": {},
   "outputs": [],
   "source": [
    "fig, ax = plt.subplots(n_dih + 1, ref_lig.top.n_residues - 2)\n",
    "\n",
    "for i in range(len(times)):\n",
    "    ax_ = ax[i // (ref_lig.top.n_residues - 2), i % (ref_lig.top.n_residues - 2)]\n",
    "\n",
    "    ax_.scatter(times[i], wanted_values[i], s=1, alpha=0.5)\n",
    "    ax_.set_title(latex[i])\n",
    "plt.tight_layout()\n",
    "fig.suptitle(\"Collective Variable Sampling\", y=1.01, fontsize=35)\n",
    "fig.supxlabel(\"Simulation Time (ns)\", y=-0.01, fontsize=35)\n",
    "fig.supylabel(\"Collective Variable Value\", x=-0.015, fontsize=35)\n",
    "plt.show()\n"
   ]
  },
  {
   "cell_type": "code",
   "execution_count": null,
   "id": "427675ad-f3e2-4a31-a905-c111ce6413b0",
   "metadata": {},
   "outputs": [],
   "source": []
  },
  {
   "cell_type": "code",
   "execution_count": null,
   "id": "907bca30-921f-417f-b7a2-259774d7e5ec",
   "metadata": {},
   "outputs": [],
   "source": []
  }
 ],
 "metadata": {
  "kernelspec": {
   "display_name": "Python 3 (ipykernel)",
   "language": "python",
   "name": "python3"
  },
  "language_info": {
   "codemirror_mode": {
    "name": "ipython",
    "version": 3
   },
   "file_extension": ".py",
   "mimetype": "text/x-python",
   "name": "python",
   "nbconvert_exporter": "python",
   "pygments_lexer": "ipython3",
   "version": "3.11.4"
  }
 },
 "nbformat": 4,
 "nbformat_minor": 5
}
