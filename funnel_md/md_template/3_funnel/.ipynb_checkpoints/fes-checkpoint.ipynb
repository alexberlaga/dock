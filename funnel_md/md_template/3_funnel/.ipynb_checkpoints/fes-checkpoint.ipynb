{
 "cells": [
  {
   "cell_type": "code",
   "execution_count": null,
   "id": "0b92043b",
   "metadata": {},
   "outputs": [],
   "source": [
    "import plumed\n",
    "import mdtraj as md\n",
    "import numpy as np\n",
    "import matplotlib.pyplot as plt\n",
    "import matplotlib\n",
    "import json\n",
    "import networkx as nx\n",
    "matplotlib.rc('xtick', labelsize=20) \n",
    "matplotlib.rc('ytick', labelsize=20) \n",
    "matplotlib.rcParams['font.size'] = 20\n",
    "matplotlib.rcParams['figure.figsize'] = (12, 8)\n",
    "def slice(traj, selection):\n",
    "    return traj.atom_slice(traj.top.select(selection))"
   ]
  },
  {
   "cell_type": "code",
   "execution_count": null,
   "id": "f2fea158",
   "metadata": {},
   "outputs": [],
   "source": [
    "colvar_path = \"colvar_reweight.dat\"\n",
    "colvar = plumed.read_as_pandas(colvar_path) \n",
    "d1 = colvar['d1'].to_numpy()\n",
    "rmsd = colvar['rmsd'].to_numpy()\n",
    "lp = colvar['fps.lp'].to_numpy()\n",
    "ld = colvar['fps.ld'].to_numpy()\n",
    "m_traj = md.load('md_whole.xtc', top='md_whole.gro')\n",
    "m_traj = slice(m_traj, 'not water and not name NA and not name CL')\n",
    "m_traj.center_coordinates()\n",
    "ref_lig = md.load('../a_insert/lig.pdb')\n",
    "lig_nres = ref_lig.top.n_residues\n",
    "total_nres = m_traj.top.n_residues\n",
    "prot_nres = total_nres - lig_nres\n",
    "dih_names = ['phi', 'psi', 'omega']\n",
    "dihedrals = {'phi': [], 'psi': []}\n",
    "protein = slice(m_traj, f\"resid 0 to {prot_nres - 1}\")\n",
    "ligand = slice(m_traj, f\"resid >= {prot_nres}\")\n",
    "try:\n",
    "    colvar['omega1']\n",
    "    dihedrals['omega'] = []\n",
    "    n_dih = 3\n",
    "except:\n",
    "    n_dih = 2\n",
    "\n",
    "for i in range(1, ligand.top.n_residues - 1):\n",
    "    for j in range(n_dih):\n",
    "        dihedrals[dih_names[j]].append(colvar[f'{dih_names[j]}{i}'].to_numpy())\n",
    "        \n",
    "bias = colvar['metad.bias']\n",
    "kT = 2.479\n",
    "bias_weights = np.exp(bias / kT) \n",
    "total = sum(bias_weights)\n",
    "bias_weights /= total\n"
   ]
  },
  {
   "cell_type": "code",
   "execution_count": null,
   "id": "1bb5d4e5",
   "metadata": {},
   "outputs": [],
   "source": [
    "ktkc = 0.5915\n",
    "hist, bins = np.histogram(lp, bins=50, weights=bias_weights)\n",
    "bins = bins[:-1]\n",
    "params = json.load(open('params.json', 'r'))\n",
    "rcyl = float(params['rcyl'])\n",
    "alpha = float(params['alpha'])\n",
    "cone_length = float(params['cone_length'])\n",
    "radius = np.maximum(rcyl * np.ones(len(bins)), rcyl + alpha * (cone_length - bins))\n",
    "potential = -ktkc * np.log(hist) + ktkc * np.log(np.pi * np.square(radius * 10) / 1660)\n",
    "plt.plot(bins, potential)\n",
    "plt.xlabel(\"Protein-Ligand Distance (nm)\")\n",
    "plt.ylabel(\"Free Energy (kcal/mol)\")\n"
   ]
  },
  {
   "cell_type": "code",
   "execution_count": null,
   "id": "d5d9f3f6-0d8a-4a51-92cd-2559114ca6b9",
   "metadata": {},
   "outputs": [],
   "source": [
    "ktkc = 0.5915\n",
    "THRESHOLD = 0.6\n",
    "fig, ax = plt.subplots(n_dih, ligand.top.n_residues - 2, figsize=[8*(ligand.top.n_residues - 2), 8*n_dih])\n",
    "for i in range(n_dih):\n",
    "    dname = dih_names[i]\n",
    "    for j in range(ligand.top.n_residues - 2):\n",
    "        cur_d = dihedrals[dname][j]\n",
    "        hist, bins = np.histogram(cur_d[lp < THRESHOLD], bins=50, weights=bias_weights[lp < THRESHOLD])\n",
    "        bins = bins[:-1]\n",
    "        \n",
    "        potential = -ktkc * np.log(hist) \n",
    "        potential -= np.min(potential)\n",
    "        ax[i,j].plot(bins, potential, label='bound')\n",
    "        hist, bins = np.histogram(cur_d[lp >= THRESHOLD], bins=50, weights=bias_weights[lp >= THRESHOLD])\n",
    "        bins = bins[:-1]\n",
    "        \n",
    "        potential = -ktkc * np.log(hist) \n",
    "        potential -= np.min(potential)\n",
    "\n",
    "        ax[i,j].plot(bins, potential, label='in solvent')\n",
    "        ax[i,j].set_xlabel(f\"$\\\\{dname}_{j+1}$\")\n",
    "        ax[i,j].set_ylabel(\"Free Energy (kcal/mol)\")\n",
    "        ax[i,j].legend()\n",
    "plt.show()"
   ]
  },
  {
   "cell_type": "code",
   "execution_count": null,
   "id": "b3539e14-2af4-4118-a6ce-eb2964d784f8",
   "metadata": {},
   "outputs": [],
   "source": [
    "from tqdm import tqdm\n",
    "import itertools\n",
    "lig_idxs = m_traj.top.select(f\"resid >= {prot_nres}\")\n",
    "lig_contacts = np.zeros((protein.n_residues, m_traj.n_frames))\n",
    "init_contacts = np.zeros(protein.n_residues)\n",
    "docked = md.load('../a_insert/prot_lig.gro')\n",
    "bw_contact_sums = np.zeros(protein.n_residues)\n",
    "for i in tqdm(range(protein.n_residues)):\n",
    "    res_idxs = m_traj.top.select(f'resid {i}')\n",
    "    dists = md.compute_distances(m_traj, itertools.product(lig_idxs, res_idxs))\n",
    "    init_dists = md.compute_distances(docked, itertools.product(lig_idxs, res_idxs))\n",
    "    frame_contacts = np.any(dists < 0.35, axis=1)\n",
    "    bw_contact_sums[i] = np.sum(bias_weights[::20][:m_traj.n_frames][frame_contacts])\n",
    "    lig_contacts[i] = np.where(frame_contacts, 1, np.nan)\n",
    "    init_contacts[i] = 1 if np.any(init_dists < 0.35) else np.nan\n",
    "    plt.scatter(np.arange(m_traj.n_frames), i * lig_contacts[i])\n",
    "plt.xlabel('Simulation time (ns)')\n",
    "plt.ylabel('Residue Number')\n",
    "plt.title('Residues in contact with ligand')\n",
    "plt.show()\n",
    "plt.bar(np.arange(protein.n_residues), bw_contact_sums)\n",
    "\n",
    "plt.scatter(np.arange(protein.n_residues), 0.01 * init_contacts, marker='x', c='red', label='Contact after docking')\n",
    "plt.xlabel('Residue Number')\n",
    "plt.ylabel('Probability of Contact')\n",
    "plt.legend()\n",
    "plt.show()"
   ]
  },
  {
   "cell_type": "code",
   "execution_count": null,
   "id": "417edb1f-81c2-4c1c-b989-e00b43ebad23",
   "metadata": {},
   "outputs": [],
   "source": [
    "import nglview as nv\n",
    "view = nv.show_mdtraj(protein)\n",
    "a = view.add_trajectory(ligand)\n",
    "a.clear_representations()\n",
    "a.add_representation(\"ball+stick\")\n",
    "view"
   ]
  },
  {
   "cell_type": "code",
   "execution_count": null,
   "id": "f040d7c7-9522-4305-8ae0-8298fcd6dd13",
   "metadata": {},
   "outputs": [],
   "source": [
    "plt.plot(lp)"
   ]
  },
  {
   "cell_type": "code",
   "execution_count": null,
   "id": "e63adc4a-27e6-4b00-84ca-e8e1a7675554",
   "metadata": {},
   "outputs": [],
   "source": [
    "def plot_fes(q1, q2, bw, xlabel='Q1', ylabel='Q2', title='FES'):\n",
    "    probs, xedges, yedges = np.histogram2d(q1, q2, weights=bw)\n",
    "    potential = -ktkc * np.log(probs)\n",
    "    plt.contourf(potential.T, origin='lower', extent=[xedges[0], xedges[-1], yedges[0], yedges[-1]], levels=250, vmin=0, vmax=6, cmap='jet')\n",
    "    plt.xlabel(xlabel)\n",
    "    plt.ylabel(ylabel)\n",
    "    plt.title(title)\n",
    "    c = plt.colorbar()\n",
    "    c.set_label(\"Free energy (kcal/mol)\")\n",
    "    plt.show()\n",
    "plot_fes(lp, ld, bias_weights, \"Funnel axis projection\", \"Distance from funnel axis\", \"Funnel projection-distance FES\")\n",
    "plot_fes(d1, lp, bias_weights, \"Protein-Ligand distance\", \"Funnel axis projection\",  \"FES\")\n",
    "plot_fes(d1, ld, bias_weights, \"Protein-Ligand distance\", \"Distance from funnel axis\", \"Funnel projection-distance FES\")\n"
   ]
  },
  {
   "cell_type": "code",
   "execution_count": null,
   "id": "ee2dd45b-3910-43da-8896-a4ea1ec326fc",
   "metadata": {},
   "outputs": [],
   "source": []
  }
 ],
 "metadata": {
  "kernelspec": {
   "display_name": "Python 3",
   "language": "python",
   "name": "python3"
  },
  "language_info": {
   "codemirror_mode": {
    "name": "ipython",
    "version": 3
   },
   "file_extension": ".py",
   "mimetype": "text/x-python",
   "name": "python",
   "nbconvert_exporter": "python",
   "pygments_lexer": "ipython3",
   "version": "3.11.4"
  }
 },
 "nbformat": 4,
 "nbformat_minor": 5
}
