{
 "cells": [
  {
   "cell_type": "code",
   "execution_count": 1,
   "id": "255c05d5-8ad8-405c-a46a-455af79f415a",
   "metadata": {},
   "outputs": [
    {
     "data": {
      "application/vnd.jupyter.widget-view+json": {
       "model_id": "f48089aa41144f2e9702b0a545ea3ed7",
       "version_major": 2,
       "version_minor": 0
      },
      "text/plain": []
     },
     "metadata": {},
     "output_type": "display_data"
    }
   ],
   "source": [
    "import mdtraj as md\n",
    "import numpy as np\n",
    "import nglview as nv\n",
    "import matplotlib.pyplot as plt\n",
    "def get_dihedral(traj, dihedral, i):\n",
    "    dihedral_list = [\"phi\", \"psi\", \"omega\"]\n",
    "    atom_angles = [[\"CLP\", \"NL\", \"CA\", \"CLP\"], [\"NL\", \"CA\", \"CLP\", \"NL\"], [\"CAY\", \"CA\", \"CLP\", \"NL\", \"CA\"]]\n",
    "    adjustment = [[-1, 0, 0, 0], [0, 0, 0, 1], [-1, -1, -1, 0, 0]]\n",
    "    k = dihedral_list.index(dihedral)\n",
    "    at_angles = atom_angles[k]\n",
    "    res_nums = np.array(adjustment[k]) + i\n",
    "    search_strings = [\"resid \" + str(rn) + \" and name \" + str(ang) for rn, ang in zip(res_nums, at_angles)]\n",
    "    search_indices = traj.topology.select(\" or \".join(search_strings))\n",
    "    return md.compute_dihedrals(traj, [search_indices])"
   ]
  },
  {
   "cell_type": "code",
   "execution_count": 2,
   "id": "ac05dbf5-57bf-4901-b235-6178e34e9402",
   "metadata": {},
   "outputs": [],
   "source": [
    "traj = md.load('anneal_whole.xtc', top='anneal_whole.pdb')\n",
    "# traj = md.load('_anneal_prod.xtc', top='solv.gro')\n",
    "# traj = traj.atom_slice(traj.top.select(\"not water\"))\n"
   ]
  },
  {
   "cell_type": "code",
   "execution_count": 3,
   "id": "a13fef9e-af70-4405-be7c-98231d70e0bf",
   "metadata": {
    "scrolled": true
   },
   "outputs": [
    {
     "data": {
      "application/vnd.jupyter.widget-view+json": {
       "model_id": "eda2781a98ac463f9d829521353c2795",
       "version_major": 2,
       "version_minor": 0
      },
      "text/plain": [
       "NGLWidget(max_frame=186129)"
      ]
     },
     "metadata": {},
     "output_type": "display_data"
    }
   ],
   "source": [
    "traj.center_coordinates()\n",
    "view = nv.show_mdtraj(traj.atom_slice(traj.top.select('not name CL and not name NA and not element H')))\n",
    "view.clear()\n",
    "view.add_ball_and_stick()\n",
    "view"
   ]
  },
  {
   "cell_type": "code",
   "execution_count": null,
   "id": "767eb1dd-4acd-428e-a52e-20094fe89bfb",
   "metadata": {},
   "outputs": [],
   "source": []
  }
 ],
 "metadata": {
  "kernelspec": {
   "display_name": "Python 3",
   "language": "python",
   "name": "python3"
  },
  "language_info": {
   "codemirror_mode": {
    "name": "ipython",
    "version": 3
   },
   "file_extension": ".py",
   "mimetype": "text/x-python",
   "name": "python",
   "nbconvert_exporter": "python",
   "pygments_lexer": "ipython3",
   "version": "3.11.4"
  }
 },
 "nbformat": 4,
 "nbformat_minor": 5
}
